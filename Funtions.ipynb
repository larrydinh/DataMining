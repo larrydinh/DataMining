{
 "cells": [
  {
   "cell_type": "markdown",
   "id": "31b64820",
   "metadata": {},
   "source": [
    "### Softmax Function\n",
    "The softmax function is defined as:\n",
    "\n",
    "$$\n",
    "\\sigma(z_i) = \\frac{e^{z_i}}{\\sum_{j=1}^{K} e^{z_j}}\n",
    "$$\n",
    "\n",
    "-About how neural network outputs probabilities for each class.\n",
    "-Comes at the end of NN, in the output layer.\n",
    "\n"
   ]
  },
  {
   "cell_type": "code",
   "execution_count": 6,
   "id": "55c9dc7c",
   "metadata": {},
   "outputs": [
    {
     "name": "stdout",
     "output_type": "stream",
     "text": [
      "Logits: [2.  1.  0.1]\n",
      "Exp_val: [7.3890561  2.71828183 1.10517092]\n",
      "Sum of exp_val  11.212508845465344\n",
      "Softmax probabilities: [0.65900114 0.24243297 0.09856589]\n",
      "Sum of probabilities: 1.0\n"
     ]
    }
   ],
   "source": [
    "#EXAMPLE OF SOFTMAX FUNCTION\n",
    "\n",
    "import numpy as np\n",
    "\n",
    "# Raw scores (logits) output by a model\n",
    "logits = np.array([2.0, 1.0, 0.1])\n",
    "\n",
    "# Compute softmax manually\n",
    "exp_vals = np.exp(logits)\n",
    "softmax_probs = exp_vals / np.sum(exp_vals)\n",
    "\n",
    "print(\"Logits:\", logits)\n",
    "print(\"Exp_val:\", exp_vals)\n",
    "print(\"Sum of exp_val \", np.sum(exp_vals))\n",
    "print(\"Softmax probabilities:\", softmax_probs)\n",
    "print(\"Sum of probabilities:\", np.sum(softmax_probs))"
   ]
  },
  {
   "cell_type": "markdown",
   "id": "3b1fb310",
   "metadata": {},
   "source": [
    "### One hot encoding\n",
    "-This converts integer class labels → vectors of 0s and 1s.\n",
    "-How we encode the target classes (correct answer).\n",
    "-Comes before training, as preprocessing for labels (y_train).\n"
   ]
  },
  {
   "cell_type": "code",
   "execution_count": 1,
   "id": "cca45d24",
   "metadata": {},
   "outputs": [
    {
     "name": "stdout",
     "output_type": "stream",
     "text": [
      "Original labels:\n",
      " [0 2 1 3 2]\n",
      "One-hot encoded:\n",
      " [[1. 0. 0. 0.]\n",
      " [0. 0. 1. 0.]\n",
      " [0. 1. 0. 0.]\n",
      " [0. 0. 0. 1.]\n",
      " [0. 0. 1. 0.]]\n"
     ]
    }
   ],
   "source": [
    "#EXAMPLE OF ONE-HOT CODING\n",
    "from tensorflow.keras.utils import to_categorical\n",
    "import numpy as np\n",
    "\n",
    "# Suppose we have 5 samples with class labels from 0 to 3\n",
    "y = np.array([0, 2, 1, 3, 2])\n",
    "\n",
    "# One-hot encode\n",
    "y_onehot = to_categorical(y, num_classes=4)\n",
    "\n",
    "print(\"Original labels:\\n\", y)\n",
    "print(\"One-hot encoded:\\n\", y_onehot)"
   ]
  },
  {
   "cell_type": "markdown",
   "id": "1948bb8c",
   "metadata": {},
   "source": [
    "### ONE HOT ENCODING & SOFTMAX WORK TOGETHER\n",
    "✅ The smaller the loss, the closer the predicted probability is to the true class."
   ]
  },
  {
   "cell_type": "code",
   "execution_count": 2,
   "id": "0a94a770",
   "metadata": {},
   "outputs": [
    {
     "name": "stdout",
     "output_type": "stream",
     "text": [
      "Cross-entropy loss: 0.3566749425101611\n"
     ]
    }
   ],
   "source": [
    "# True label (one-hot encoded)\n",
    "y_true = np.array([0, 1, 0])   # class 1 is correct\n",
    "\n",
    "# Model prediction (softmax output)\n",
    "y_pred = np.array([0.1, 0.7, 0.2])\n",
    "\n",
    "# Cross-entropy loss (manual calculation)\n",
    "loss = -np.sum(y_true * np.log(y_pred + 1e-9))  # small epsilon to avoid log(0)\n",
    "print(\"Cross-entropy loss:\", loss)"
   ]
  }
 ],
 "metadata": {
  "kernelspec": {
   "display_name": ".venv",
   "language": "python",
   "name": "python3"
  },
  "language_info": {
   "codemirror_mode": {
    "name": "ipython",
    "version": 3
   },
   "file_extension": ".py",
   "mimetype": "text/x-python",
   "name": "python",
   "nbconvert_exporter": "python",
   "pygments_lexer": "ipython3",
   "version": "3.11.7"
  }
 },
 "nbformat": 4,
 "nbformat_minor": 5
}
